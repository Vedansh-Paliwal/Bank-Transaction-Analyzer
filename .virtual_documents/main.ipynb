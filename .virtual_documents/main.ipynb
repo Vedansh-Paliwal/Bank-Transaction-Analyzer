import numpy as np
import pandas as pd
import matplotlib.pyplot as plt


df = pd.read_csv("Account_Statement PNB.csv")


df.info()


df.head()


df = df.apply(lambda x : x.str.replace(',',''))


c = ['Withdrawal','Deposit','Balance']


df[['Withdrawal','Deposit','Balance']] = df[c].apply(pd.to_numeric, errors = 'coerce')


df['Transaction Date'] = pd.to_datetime(df['Transaction Date'], format = '%d-%m-%Y')


df.head()


all_Debited_Amount = df['Withdrawal'].sum()
all_Debited_Amount


all_Credited_Amount = df['Deposit'].sum()
all_Credited_Amount


transaction_Type = ['Debit','Credit']
values = [all_Debited_Amount, all_Credited_Amount]


def add_labels(x,y):
    for i in range(len(x)):
        plt.text(i, y[i], y[i], ha = 'center')

plt.bar(transaction_Type, values, width = 0.5)

add_labels(transaction_Type, values)

plt.title('Total Debit-Credit in year 2024-25', fontweight = 'bold')
plt.xlabel('Transaction Type')
plt.ylabel('Amount')

plt.savefig('Total Debit-Credit in year 2024-25')


df


debit_via_UPI = df[df['Narration'].str.contains('UPI', na=False)]['Withdrawal'].sum()


debit_via_UPI


debit_via_Others = df[~df['Narration'].str.contains('UPI', na=False)]['Withdrawal'].sum()


debit_via_Others


amounts = [debit_via_UPI, debit_via_Others]
labels = ['UPI','Others']


plt.pie(amounts, labels=labels, autopct = '%1.1f%%')
plt.title('Distribution Of UPI Debited Amounts', fontweight = 'bold')
plt.savefig('Distribution Of UPI debited amounts')


credits_via_UPI = df[df['Narration'].str.contains('UPI')]['Deposit'].sum()
credits_via_UPI = round(credits_via_UPI,2)
credits_via_UPI


credit_via_ATM_DEP = df[df['Narration'].str.contains('ATM DEP')]['Deposit'].sum()
credit_via_ATM_DEP = round(credit_via_ATM_DEP,2)
credit_via_ATM_DEP


credits_via_Others = df[~(df['Narration'].str.contains('UPI') | df['Narration'].str.contains('ATM DEP'))]['Deposit'].sum()
credits_via_Others


credit_amounts = [credits_via_UPI, credit_via_ATM_DEP, credits_via_Others]
labels = ['UPI','ATM Deposit','Others']


def add_labels(x,y):
    for i in range(len(x)):
        plt.text(i, y[i], y[i], ha = 'center')

plt.bar(labels, credit_amounts)

add_labels(labels, credit_amounts)

plt.title('Distribution Of UPI Credited Amounts', fontweight = 'bold')
plt.xlabel('Means Of Credit------->')
plt.ylabel('Amount------->')

plt.savefig('Distribution Of UPI Credited Amounts')


monthly_debits = df.groupby(df['Transaction Date'].dt.to_period('M'))['Withdrawal'].sum()
monthly_list = [round(val, 2) for val in monthly_debits.tolist()]
monthly_list
monthly_list


months = list(df['Transaction Date'].dt.to_period('M').unique())
months = [str(m) for m in months]
months.reverse()
months


def add_horizontal_labels(x,y):
    for i in range(len(x)):
        plt.text(x[i] + 1000, i, x[i], va = 'center')

plt.figure(figsize = (10,6))
plt.barh(months, monthly_list)

add_horizontal_labels(monthly_list, months)

plt.title('Monthly Debits in the year 2024-25', fontweight = 'bold')
plt.xlabel('Amount Debited')
plt.ylabel('Period')
plt.savefig('Monthly Debits in Year 2024-25')
plt.show()



monthly_credits = df.groupby(df['Transaction Date'].dt.to_period('M'))['Deposit'].sum()
monthly_credits = [round(val, 2) for val in monthly_credits.tolist()]
monthly_credits


def add_horizontal_labels(x,y):
    for i in range(len(x)):
        plt.text(x[i] + 1000, i, x[i], va = 'center')

plt.figure(figsize = (10,6))
plt.barh(months, monthly_credits)

add_horizontal_labels(monthly_credits, months)

plt.title('Monthly Debits in the year 2024-25', fontweight = 'bold')
plt.xlabel('Amount Credited')
plt.ylabel('Period')
plt.show()

plt.savefig('Monthly Credits in Year 2024-25')



