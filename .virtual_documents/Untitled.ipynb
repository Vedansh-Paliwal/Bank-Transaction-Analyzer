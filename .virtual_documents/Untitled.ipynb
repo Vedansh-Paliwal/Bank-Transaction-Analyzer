import numpy as np
import pandas as pd
import matplotlib.pyplot as plt


df = pd.read_csv("Account_Statement CBI.csv")


df


df.info()


(df['Debit'].isna()) & (df['Credit'].isna())


df = df[~(df['Debit'].str.contains(' ') & df['Credit'].str.contains(' '))]


df


df['Debit','Credit']



