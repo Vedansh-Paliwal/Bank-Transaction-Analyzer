import numpy as np
import pandas as pd
import matplotlib.pyplot as plt


df = pd.read_csv("Account_Statement CBI.csv")


df


df.info()


(df['Debit'].isna()) & (df['Credit'].isna())


df = df[~(df['Debit'].str.contains(' ') & df['Credit'].str.contains(' '))].copy()


df['Balance'] = df['Balance'].str.strip(' CR')
df.head()


df[['Debit','Credit','Balance']] = df[['Debit','Credit','Balance']].apply(pd.to_numeric, errors = 'coerce')


df[['Post Date', 'Value Date']] = df[['Post Date', 'Value Date']].apply(pd.to_datetime, format = '%d-%m-%Y')


df.head()


total_Debited_Amount = df['Debit'].sum()
total_Debited_Amount


total_Credited_Amount = df['Credit'].sum()
total_Credited_Amount


debit_credit = ['Debit','Credit']
total_amount = [total_Debited_Amount, total_Credited_Amount]


def add_labels(x,y):
    for i in range(len(x)):
        plt.text(i,y[i],y[i],ha = 'center')


plt.bar(debit_credit, total_amount, width = 0.4)
add_labels(debit_credit, total_amount)

plt.title('Debited and Credited Amount in the Year 2024-25', fontweight = 'bold')
plt.xlabel('Debit/Credit', fontweight = 'bold')
plt.ylabel('Amount', fontweight = 'bold')

plt.savefig('Debited and Credited Amount in 2024-25.png', dpi = 300)


total_Debit_NEFT = df[(df['Account Description'].str.contains('NEFT')) & (~df['Debit'].isna())]['Debit'].sum()
print(len(df[(df['Account Description'].str.contains('NEFT')) & (~df['Debit'].isna())]))
print(total_Debit_NEFT)


total_Debit_WITHDRAWAL = df[(df['Account Description'].str.contains('WITHDRAWAL')) & (~df['Debit'].isna())]['Debit'].sum()
print(len(df[(df['Account Description'].str.contains('WITHDRAWAL')) & (~df['Debit'].isna())]))
print(total_Debit_WITHDRAWAL)


total_Debit_UPI = df[(df['Account Description'].str.contains('UPI')) & (~df['Debit'].isna())]['Debit'].sum()
print(len(df[(df['Account Description'].str.contains('UPI')) & (~df['Debit'].isna())]))
print(total_Debit_UPI)


total_Debit_SMS = df[(df['Account Description'].str.contains('SMS CHARGES')) & (~df['Debit'].isna())]['Debit'].sum()
print(len(df[(df['Account Description'].str.contains('SMS CHARGES')) & (~df['Debit'].isna())]))
print(total_Debit_SMS)


total_Debit_Others = df[(~df['Debit'].isna()) & (~df['Account Description'].str.contains('UPI|SMS CHARGES|NEFT|WITHDRAWAL'))]['Debit'].sum()
print(len(df[(~df['Debit'].isna()) & (~df['Account Description'].str.contains('UPI|SMS CHARGES|NEFT|WITHDRAWAL'))]))
print(total_Debit_Others)


df[(~df['Debit'].isna()) & (~df['Account Description'].str.contains('UPI|SMS CHARGES|NEFT|WITHDRAWAL'))]


debit_categories = [total_Debit_NEFT, total_Debit_WITHDRAWAL, total_Debit_UPI, total_Debit_SMS, total_Debit_Others]
labels = ['NEFT', 'CASH WITHDRAWAL', 'UPI', 'SMS CHARGES', 'OTHERS']
my_explode = [0,0,0,0,0]


plt.pie(debit_categories, labels = labels, autopct = '%1.1f%%', explode = my_explode)
plt.title('Percentage Distribution of Debit in Account', fontweight = 'bold')
plt.legend(loc = 'lower right', prop = {'size':8})

plt.savefig('Percentage Distribution Of Debit in Account.png', dpi = 300)


# Transactions of Credit:
df[~df['Credit'].isna()]
print(len(df[~df['Credit'].isna()]))


total_Credit_SALARY = df[(~df['Credit'].isna()) & (df['Account Description'].str.contains('CREDIT'))]['Credit'].sum()
print(total_Credit_SALARY)
print(len(df[(~df['Credit'].isna()) & (df['Account Description'].str.contains('CREDIT'))]))


total_Credit_UPI = df[(~df['Credit'].isna()) & (df['Account Description'].str.contains('UPI'))]['Credit'].sum()
print(total_Credit_UPI)
print(len(df[(~df['Credit'].isna()) & (df['Account Description'].str.contains('UPI'))]))


total_Credit_NEFT = df[(~df['Credit'].isna()) & (df['Account Description'].str.contains('NEFT'))]['Credit'].sum()
print(total_Credit_NEFT)
print(len(df[(~df['Credit'].isna()) & (df['Account Description'].str.contains('NEFT'))]))


total_Credit_OTHERS = df[(~df['Credit'].isna()) & (df['Account Description'].str.contains('SALARY|CLO', case=False))]['Credit'].sum()
print(total_Credit_OTHERS)
print(len(df[(~df['Credit'].isna()) & (df['Account Description'].str.contains('SALARY|CLO', case=False))]))


credit_categories = [total_Credit_SALARY, total_Credit_UPI, total_Credit_NEFT, total_Credit_OTHERS]
labels = ['SALARY','UPI','NEFT','OTHERS']


plt.pie(credit_categories, labels = labels, autopct = '%1.1f%%')
plt.title('Percentege Distribution Of Credit in Account', fontweight = 'bold')
plt.legend(loc = 'lower right', prop = {'size':8})

plt.savefig('Percentage Distribution Of Credit in Account.png', dpi = 300)


monthly_debits = df.groupby(df['Post Date'].dt.to_period('M'))['Debit'].sum()
monthly_debits = [round(val,2) for val in monthly_debits.tolist()]
monthly_debits


months = list(df['Post Date'].dt.to_period('M').unique())
months = [str(m) for m in months]
months


def add_horizontal_labels(x, y):
    for i in range(len(x)):
        plt.text(x[i] + 1000,i,x[i], va = 'center')


plt.figure(figsize = (10,6))
plt.barh(months, monthly_debits)

add_horizontal_labels(monthly_debits, months)

plt.title('Monthly Debit in Account in the Year 2024-25', fontweight = 'bold')
plt.xlabel('Amount', fontweight = 'bold')
plt.ylabel('Months', fontweight = 'bold')

plt.savefig('Monthly Debits in the Year 2024-25.png', dpi = 300)


monthly_credits = df.groupby(df['Post Date'].dt.to_period('M'))['Credit'].sum()
monthly_credits = [round(val,2) for val in monthly_credits.tolist()]
monthly_credits


plt.figure(figsize = (10,6))
plt.barh(months, monthly_credits)

add_horizontal_labels(monthly_credits, months)

plt.title('Monthly Credit in Account in the Year 2024-25', fontweight = 'bold')
plt.xlabel('Amount', fontweight = 'bold')
plt.ylabel('Months', fontweight = 'bold')

# plt.savefig('Monthly Credits in the Year 2024-25.png', dpi = 300)



