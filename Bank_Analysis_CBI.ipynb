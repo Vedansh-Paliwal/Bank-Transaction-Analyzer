{
 "cells": [
  {
   "cell_type": "code",
   "execution_count": 136,
   "id": "e283f697-b8d6-478f-b2a0-81b0ba8357ee",
   "metadata": {},
   "outputs": [],
   "source": [
    "import numpy as np\n",
    "import pandas as pd\n",
    "import matplotlib.pyplot as plt"
   ]
  },
  {
   "cell_type": "code",
   "execution_count": 156,
   "id": "e42a21b7-e60b-49cc-9e8a-d4f54a2db8a4",
   "metadata": {},
   "outputs": [],
   "source": [
    "df = pd.read_csv(\"Account_Statement CBI.csv\")"
   ]
  },
  {
   "cell_type": "code",
   "execution_count": 188,
   "id": "67d2fd18-4699-428c-89dd-5eac1e8ab41f",
   "metadata": {},
   "outputs": [
    {
     "data": {
      "text/html": [
       "<div>\n",
       "<style scoped>\n",
       "    .dataframe tbody tr th:only-of-type {\n",
       "        vertical-align: middle;\n",
       "    }\n",
       "\n",
       "    .dataframe tbody tr th {\n",
       "        vertical-align: top;\n",
       "    }\n",
       "\n",
       "    .dataframe thead th {\n",
       "        text-align: right;\n",
       "    }\n",
       "</style>\n",
       "<table border=\"1\" class=\"dataframe\">\n",
       "  <thead>\n",
       "    <tr style=\"text-align: right;\">\n",
       "      <th></th>\n",
       "      <th>Post Date</th>\n",
       "      <th>Value Date</th>\n",
       "      <th>Branch Code</th>\n",
       "      <th>Cheque Number</th>\n",
       "      <th>Account Description</th>\n",
       "      <th>Debit</th>\n",
       "      <th>Credit</th>\n",
       "      <th>Balance</th>\n",
       "    </tr>\n",
       "  </thead>\n",
       "  <tbody>\n",
       "    <tr>\n",
       "      <th>0</th>\n",
       "      <td>01-01-2024</td>\n",
       "      <td>01-01-2024</td>\n",
       "      <td>3295</td>\n",
       "      <td></td>\n",
       "      <td>CREDIT/001030001030001030001030</td>\n",
       "      <td>NaN</td>\n",
       "      <td>84056.0</td>\n",
       "      <td>230104.08</td>\n",
       "    </tr>\n",
       "    <tr>\n",
       "      <th>1</th>\n",
       "      <td>02-01-2024</td>\n",
       "      <td>02-01-2024</td>\n",
       "      <td>3295</td>\n",
       "      <td></td>\n",
       "      <td>CASH WITHDRAWAL/SELF</td>\n",
       "      <td>100000.0</td>\n",
       "      <td>NaN</td>\n",
       "      <td>130104.08</td>\n",
       "    </tr>\n",
       "    <tr>\n",
       "      <th>2</th>\n",
       "      <td>03-01-2024</td>\n",
       "      <td>03-01-2024</td>\n",
       "      <td>4982</td>\n",
       "      <td></td>\n",
       "      <td>TO TRANSFER/UPI/RRN 400320704152/UPI</td>\n",
       "      <td>620.0</td>\n",
       "      <td>NaN</td>\n",
       "      <td>129484.08</td>\n",
       "    </tr>\n",
       "    <tr>\n",
       "      <th>3</th>\n",
       "      <td>04-01-2024</td>\n",
       "      <td>04-01-2024</td>\n",
       "      <td>4982</td>\n",
       "      <td></td>\n",
       "      <td>TO TRANSFER/UPI/RRN 400475938685/UPI</td>\n",
       "      <td>345.0</td>\n",
       "      <td>NaN</td>\n",
       "      <td>129139.08</td>\n",
       "    </tr>\n",
       "    <tr>\n",
       "      <th>4</th>\n",
       "      <td>07-01-2024</td>\n",
       "      <td>07-01-2024</td>\n",
       "      <td>3295</td>\n",
       "      <td></td>\n",
       "      <td>WITHDRAWAL TRANSFER</td>\n",
       "      <td>5000.0</td>\n",
       "      <td>NaN</td>\n",
       "      <td>124139.08</td>\n",
       "    </tr>\n",
       "    <tr>\n",
       "      <th>...</th>\n",
       "      <td>...</td>\n",
       "      <td>...</td>\n",
       "      <td>...</td>\n",
       "      <td>...</td>\n",
       "      <td>...</td>\n",
       "      <td>...</td>\n",
       "      <td>...</td>\n",
       "      <td>...</td>\n",
       "    </tr>\n",
       "    <tr>\n",
       "      <th>284</th>\n",
       "      <td>13-06-2025</td>\n",
       "      <td>13-06-2025</td>\n",
       "      <td>4982</td>\n",
       "      <td></td>\n",
       "      <td>TO TRANSFER/UPI/RRN 516417532969/UPI</td>\n",
       "      <td>2759.0</td>\n",
       "      <td>NaN</td>\n",
       "      <td>191604.79</td>\n",
       "    </tr>\n",
       "    <tr>\n",
       "      <th>285</th>\n",
       "      <td>19-06-2025</td>\n",
       "      <td>19-06-2025</td>\n",
       "      <td>4982</td>\n",
       "      <td></td>\n",
       "      <td>TO TRANSFER/UPI/RRN 100143646405/Upi Transaction</td>\n",
       "      <td>50.0</td>\n",
       "      <td>NaN</td>\n",
       "      <td>191554.79</td>\n",
       "    </tr>\n",
       "    <tr>\n",
       "      <th>286</th>\n",
       "      <td>20-06-2025</td>\n",
       "      <td>20-06-2025</td>\n",
       "      <td>4982</td>\n",
       "      <td></td>\n",
       "      <td>TO TRANSFER/UPI/RRN 517124381376/UPI</td>\n",
       "      <td>249.0</td>\n",
       "      <td>NaN</td>\n",
       "      <td>191305.79</td>\n",
       "    </tr>\n",
       "    <tr>\n",
       "      <th>287</th>\n",
       "      <td>22-06-2025</td>\n",
       "      <td>22-06-2025</td>\n",
       "      <td>4982</td>\n",
       "      <td></td>\n",
       "      <td>TO TRANSFER/UPI/RRN 553988396831/UPI</td>\n",
       "      <td>10000.0</td>\n",
       "      <td>NaN</td>\n",
       "      <td>181305.79</td>\n",
       "    </tr>\n",
       "    <tr>\n",
       "      <th>288</th>\n",
       "      <td>23-06-2025</td>\n",
       "      <td>23-06-2025</td>\n",
       "      <td>4982</td>\n",
       "      <td></td>\n",
       "      <td>BY TRANSFER/UPI/RRN 385602793556/Sent using Pa...</td>\n",
       "      <td>NaN</td>\n",
       "      <td>5861.0</td>\n",
       "      <td>187166.79</td>\n",
       "    </tr>\n",
       "  </tbody>\n",
       "</table>\n",
       "<p>286 rows × 8 columns</p>\n",
       "</div>"
      ],
      "text/plain": [
       "      Post Date  Value Date Branch Code Cheque Number  \\\n",
       "0    01-01-2024  01-01-2024        3295                 \n",
       "1    02-01-2024  02-01-2024        3295                 \n",
       "2    03-01-2024  03-01-2024        4982                 \n",
       "3    04-01-2024  04-01-2024        4982                 \n",
       "4    07-01-2024  07-01-2024        3295                 \n",
       "..          ...         ...         ...           ...   \n",
       "284  13-06-2025  13-06-2025        4982                 \n",
       "285  19-06-2025  19-06-2025        4982                 \n",
       "286  20-06-2025  20-06-2025        4982                 \n",
       "287  22-06-2025  22-06-2025        4982                 \n",
       "288  23-06-2025  23-06-2025        4982                 \n",
       "\n",
       "                                   Account Description     Debit   Credit  \\\n",
       "0                      CREDIT/001030001030001030001030       NaN  84056.0   \n",
       "1                                 CASH WITHDRAWAL/SELF  100000.0      NaN   \n",
       "2                 TO TRANSFER/UPI/RRN 400320704152/UPI     620.0      NaN   \n",
       "3                 TO TRANSFER/UPI/RRN 400475938685/UPI     345.0      NaN   \n",
       "4                                  WITHDRAWAL TRANSFER    5000.0      NaN   \n",
       "..                                                 ...       ...      ...   \n",
       "284               TO TRANSFER/UPI/RRN 516417532969/UPI    2759.0      NaN   \n",
       "285   TO TRANSFER/UPI/RRN 100143646405/Upi Transaction      50.0      NaN   \n",
       "286               TO TRANSFER/UPI/RRN 517124381376/UPI     249.0      NaN   \n",
       "287               TO TRANSFER/UPI/RRN 553988396831/UPI   10000.0      NaN   \n",
       "288  BY TRANSFER/UPI/RRN 385602793556/Sent using Pa...       NaN   5861.0   \n",
       "\n",
       "       Balance  \n",
       "0    230104.08  \n",
       "1    130104.08  \n",
       "2    129484.08  \n",
       "3    129139.08  \n",
       "4    124139.08  \n",
       "..         ...  \n",
       "284  191604.79  \n",
       "285  191554.79  \n",
       "286  191305.79  \n",
       "287  181305.79  \n",
       "288  187166.79  \n",
       "\n",
       "[286 rows x 8 columns]"
      ]
     },
     "execution_count": 188,
     "metadata": {},
     "output_type": "execute_result"
    }
   ],
   "source": [
    "df"
   ]
  },
  {
   "cell_type": "code",
   "execution_count": 182,
   "id": "6c8e94f8-4781-4c37-81e3-059e873469e0",
   "metadata": {},
   "outputs": [
    {
     "name": "stdout",
     "output_type": "stream",
     "text": [
      "<class 'pandas.core.frame.DataFrame'>\n",
      "Index: 286 entries, 0 to 288\n",
      "Data columns (total 8 columns):\n",
      " #   Column               Non-Null Count  Dtype \n",
      "---  ------               --------------  ----- \n",
      " 0   Post Date            286 non-null    object\n",
      " 1   Value Date           286 non-null    object\n",
      " 2   Branch Code          286 non-null    object\n",
      " 3   Cheque Number        286 non-null    object\n",
      " 4   Account Description  286 non-null    object\n",
      " 5   Debit                286 non-null    object\n",
      " 6   Credit               286 non-null    object\n",
      " 7   Balance              286 non-null    object\n",
      "dtypes: object(8)\n",
      "memory usage: 28.2+ KB\n"
     ]
    }
   ],
   "source": [
    "df.info()"
   ]
  },
  {
   "cell_type": "code",
   "execution_count": 144,
   "id": "ef53e22b-eb6f-4b9e-9d67-9a7d1913a165",
   "metadata": {},
   "outputs": [
    {
     "data": {
      "text/plain": [
       "0      False\n",
       "1      False\n",
       "2      False\n",
       "3      False\n",
       "4      False\n",
       "       ...  \n",
       "284    False\n",
       "285    False\n",
       "286    False\n",
       "287    False\n",
       "288    False\n",
       "Length: 289, dtype: bool"
      ]
     },
     "execution_count": 144,
     "metadata": {},
     "output_type": "execute_result"
    }
   ],
   "source": [
    "(df['Debit'].isna()) & (df['Credit'].isna())"
   ]
  },
  {
   "cell_type": "code",
   "execution_count": 160,
   "id": "d6ee7e4b-6743-47e2-8f77-94ed5c7ada94",
   "metadata": {},
   "outputs": [],
   "source": [
    "df = df[~(df['Debit'].str.contains(' ') & df['Credit'].str.contains(' '))].copy()"
   ]
  },
  {
   "cell_type": "code",
   "execution_count": 184,
   "id": "15669d25-4874-4844-a1f5-33fd49a19a75",
   "metadata": {},
   "outputs": [
    {
     "data": {
      "text/html": [
       "<div>\n",
       "<style scoped>\n",
       "    .dataframe tbody tr th:only-of-type {\n",
       "        vertical-align: middle;\n",
       "    }\n",
       "\n",
       "    .dataframe tbody tr th {\n",
       "        vertical-align: top;\n",
       "    }\n",
       "\n",
       "    .dataframe thead th {\n",
       "        text-align: right;\n",
       "    }\n",
       "</style>\n",
       "<table border=\"1\" class=\"dataframe\">\n",
       "  <thead>\n",
       "    <tr style=\"text-align: right;\">\n",
       "      <th></th>\n",
       "      <th>Post Date</th>\n",
       "      <th>Value Date</th>\n",
       "      <th>Branch Code</th>\n",
       "      <th>Cheque Number</th>\n",
       "      <th>Account Description</th>\n",
       "      <th>Debit</th>\n",
       "      <th>Credit</th>\n",
       "      <th>Balance</th>\n",
       "    </tr>\n",
       "  </thead>\n",
       "  <tbody>\n",
       "    <tr>\n",
       "      <th>0</th>\n",
       "      <td>01-01-2024</td>\n",
       "      <td>01-01-2024</td>\n",
       "      <td>3295</td>\n",
       "      <td></td>\n",
       "      <td>CREDIT/001030001030001030001030</td>\n",
       "      <td></td>\n",
       "      <td>84056</td>\n",
       "      <td>230104.08</td>\n",
       "    </tr>\n",
       "    <tr>\n",
       "      <th>1</th>\n",
       "      <td>02-01-2024</td>\n",
       "      <td>02-01-2024</td>\n",
       "      <td>3295</td>\n",
       "      <td></td>\n",
       "      <td>CASH WITHDRAWAL/SELF</td>\n",
       "      <td>100000</td>\n",
       "      <td></td>\n",
       "      <td>130104.08</td>\n",
       "    </tr>\n",
       "    <tr>\n",
       "      <th>2</th>\n",
       "      <td>03-01-2024</td>\n",
       "      <td>03-01-2024</td>\n",
       "      <td>4982</td>\n",
       "      <td></td>\n",
       "      <td>TO TRANSFER/UPI/RRN 400320704152/UPI</td>\n",
       "      <td>620</td>\n",
       "      <td></td>\n",
       "      <td>129484.08</td>\n",
       "    </tr>\n",
       "    <tr>\n",
       "      <th>3</th>\n",
       "      <td>04-01-2024</td>\n",
       "      <td>04-01-2024</td>\n",
       "      <td>4982</td>\n",
       "      <td></td>\n",
       "      <td>TO TRANSFER/UPI/RRN 400475938685/UPI</td>\n",
       "      <td>345</td>\n",
       "      <td></td>\n",
       "      <td>129139.08</td>\n",
       "    </tr>\n",
       "    <tr>\n",
       "      <th>4</th>\n",
       "      <td>07-01-2024</td>\n",
       "      <td>07-01-2024</td>\n",
       "      <td>3295</td>\n",
       "      <td></td>\n",
       "      <td>WITHDRAWAL TRANSFER</td>\n",
       "      <td>5000</td>\n",
       "      <td></td>\n",
       "      <td>124139.08</td>\n",
       "    </tr>\n",
       "  </tbody>\n",
       "</table>\n",
       "</div>"
      ],
      "text/plain": [
       "    Post Date  Value Date Branch Code Cheque Number  \\\n",
       "0  01-01-2024  01-01-2024        3295                 \n",
       "1  02-01-2024  02-01-2024        3295                 \n",
       "2  03-01-2024  03-01-2024        4982                 \n",
       "3  04-01-2024  04-01-2024        4982                 \n",
       "4  07-01-2024  07-01-2024        3295                 \n",
       "\n",
       "                    Account Description         Debit        Credit    Balance  \n",
       "0       CREDIT/001030001030001030001030                       84056  230104.08  \n",
       "1                  CASH WITHDRAWAL/SELF        100000                130104.08  \n",
       "2  TO TRANSFER/UPI/RRN 400320704152/UPI           620                129484.08  \n",
       "3  TO TRANSFER/UPI/RRN 400475938685/UPI           345                129139.08  \n",
       "4                   WITHDRAWAL TRANSFER          5000                124139.08  "
      ]
     },
     "execution_count": 184,
     "metadata": {},
     "output_type": "execute_result"
    }
   ],
   "source": [
    "df['Balance'] = df['Balance'].str.strip(' CR')\n",
    "df.head()"
   ]
  },
  {
   "cell_type": "code",
   "execution_count": 186,
   "id": "ea611110-8a35-4190-8ddb-d08af2d54539",
   "metadata": {},
   "outputs": [],
   "source": [
    "df[['Debit','Credit','Balance']] = df[['Debit','Credit','Balance']].apply(pd.to_numeric, errors = 'coerce')"
   ]
  },
  {
   "cell_type": "code",
   "execution_count": 190,
   "id": "25c3fb7f-20d0-408b-ae1b-a50d90c234e3",
   "metadata": {},
   "outputs": [],
   "source": [
    "df[['Post Date', 'Value Date']] = df[['Post Date', 'Value Date']].apply(pd.to_datetime, format = '%d-%m-%Y')"
   ]
  },
  {
   "cell_type": "code",
   "execution_count": 220,
   "id": "7f4c4116-28b9-467b-918e-f25ba32c9f0a",
   "metadata": {},
   "outputs": [
    {
     "data": {
      "text/html": [
       "<div>\n",
       "<style scoped>\n",
       "    .dataframe tbody tr th:only-of-type {\n",
       "        vertical-align: middle;\n",
       "    }\n",
       "\n",
       "    .dataframe tbody tr th {\n",
       "        vertical-align: top;\n",
       "    }\n",
       "\n",
       "    .dataframe thead th {\n",
       "        text-align: right;\n",
       "    }\n",
       "</style>\n",
       "<table border=\"1\" class=\"dataframe\">\n",
       "  <thead>\n",
       "    <tr style=\"text-align: right;\">\n",
       "      <th></th>\n",
       "      <th>Post Date</th>\n",
       "      <th>Value Date</th>\n",
       "      <th>Branch Code</th>\n",
       "      <th>Cheque Number</th>\n",
       "      <th>Account Description</th>\n",
       "      <th>Debit</th>\n",
       "      <th>Credit</th>\n",
       "      <th>Balance</th>\n",
       "    </tr>\n",
       "  </thead>\n",
       "  <tbody>\n",
       "    <tr>\n",
       "      <th>0</th>\n",
       "      <td>2024-01-01</td>\n",
       "      <td>2024-01-01</td>\n",
       "      <td>3295</td>\n",
       "      <td></td>\n",
       "      <td>CREDIT/001030001030001030001030</td>\n",
       "      <td>NaN</td>\n",
       "      <td>84056.0</td>\n",
       "      <td>230104.08</td>\n",
       "    </tr>\n",
       "    <tr>\n",
       "      <th>1</th>\n",
       "      <td>2024-01-02</td>\n",
       "      <td>2024-01-02</td>\n",
       "      <td>3295</td>\n",
       "      <td></td>\n",
       "      <td>CASH WITHDRAWAL/SELF</td>\n",
       "      <td>100000.0</td>\n",
       "      <td>NaN</td>\n",
       "      <td>130104.08</td>\n",
       "    </tr>\n",
       "    <tr>\n",
       "      <th>2</th>\n",
       "      <td>2024-01-03</td>\n",
       "      <td>2024-01-03</td>\n",
       "      <td>4982</td>\n",
       "      <td></td>\n",
       "      <td>TO TRANSFER/UPI/RRN 400320704152/UPI</td>\n",
       "      <td>620.0</td>\n",
       "      <td>NaN</td>\n",
       "      <td>129484.08</td>\n",
       "    </tr>\n",
       "    <tr>\n",
       "      <th>3</th>\n",
       "      <td>2024-01-04</td>\n",
       "      <td>2024-01-04</td>\n",
       "      <td>4982</td>\n",
       "      <td></td>\n",
       "      <td>TO TRANSFER/UPI/RRN 400475938685/UPI</td>\n",
       "      <td>345.0</td>\n",
       "      <td>NaN</td>\n",
       "      <td>129139.08</td>\n",
       "    </tr>\n",
       "    <tr>\n",
       "      <th>4</th>\n",
       "      <td>2024-01-07</td>\n",
       "      <td>2024-01-07</td>\n",
       "      <td>3295</td>\n",
       "      <td></td>\n",
       "      <td>WITHDRAWAL TRANSFER</td>\n",
       "      <td>5000.0</td>\n",
       "      <td>NaN</td>\n",
       "      <td>124139.08</td>\n",
       "    </tr>\n",
       "  </tbody>\n",
       "</table>\n",
       "</div>"
      ],
      "text/plain": [
       "   Post Date Value Date Branch Code Cheque Number  \\\n",
       "0 2024-01-01 2024-01-01        3295                 \n",
       "1 2024-01-02 2024-01-02        3295                 \n",
       "2 2024-01-03 2024-01-03        4982                 \n",
       "3 2024-01-04 2024-01-04        4982                 \n",
       "4 2024-01-07 2024-01-07        3295                 \n",
       "\n",
       "                    Account Description     Debit   Credit    Balance  \n",
       "0       CREDIT/001030001030001030001030       NaN  84056.0  230104.08  \n",
       "1                  CASH WITHDRAWAL/SELF  100000.0      NaN  130104.08  \n",
       "2  TO TRANSFER/UPI/RRN 400320704152/UPI     620.0      NaN  129484.08  \n",
       "3  TO TRANSFER/UPI/RRN 400475938685/UPI     345.0      NaN  129139.08  \n",
       "4                   WITHDRAWAL TRANSFER    5000.0      NaN  124139.08  "
      ]
     },
     "execution_count": 220,
     "metadata": {},
     "output_type": "execute_result"
    }
   ],
   "source": [
    "df.head()"
   ]
  },
  {
   "cell_type": "code",
   "execution_count": 194,
   "id": "9423c6cf-c33f-4e0c-a5bb-659b749641c9",
   "metadata": {},
   "outputs": [
    {
     "data": {
      "text/plain": [
       "5225279.29"
      ]
     },
     "execution_count": 194,
     "metadata": {},
     "output_type": "execute_result"
    }
   ],
   "source": [
    "total_Debited_Amount = df['Debit'].sum()\n",
    "total_Debited_Amount"
   ]
  },
  {
   "cell_type": "code",
   "execution_count": 196,
   "id": "ae1868cd-bd54-42f7-a624-c9d625926722",
   "metadata": {},
   "outputs": [
    {
     "data": {
      "text/plain": [
       "5266398.0"
      ]
     },
     "execution_count": 196,
     "metadata": {},
     "output_type": "execute_result"
    }
   ],
   "source": [
    "total_Credited_Amount = df['Credit'].sum()\n",
    "total_Credited_Amount"
   ]
  },
  {
   "cell_type": "code",
   "execution_count": 198,
   "id": "a0b053e1-6431-4e45-8470-46c8b12eba5b",
   "metadata": {},
   "outputs": [],
   "source": [
    "debit_credit = ['Debit','Credit']\n",
    "total_amount = [total_Debited_Amount, total_Credited_Amount]"
   ]
  },
  {
   "cell_type": "code",
   "execution_count": 200,
   "id": "e57f7ed2-c0be-45c0-a40e-a12cb265f344",
   "metadata": {},
   "outputs": [],
   "source": [
    "def add_labels(x,y):\n",
    "    for i in range(len(x)):\n",
    "        plt.text(i,y[i],y[i],ha = 'center')"
   ]
  },
  {
   "cell_type": "code",
   "execution_count": 202,
   "id": "3d2075e9-b2e0-41e5-a6fa-7cd2e885cb35",
   "metadata": {},
   "outputs": [
    {
     "data": {
      "image/png": "[encoded data removed]",
      "text/plain": [
       "<Figure size 640x480 with 1 Axes>"
      ]
     },
     "metadata": {},
     "output_type": "display_data"
    }
   ],
   "source": [
    "plt.bar(debit_credit, total_amount, width = 0.4)\n",
    "add_labels(debit_credit, total_amount)\n",
    "\n",
    "plt.title('Debited and Credited Amount in the Year 2024-25', fontweight = 'bold')\n",
    "plt.xlabel('Debit/Credit', fontweight = 'bold')\n",
    "plt.ylabel('Amount', fontweight = 'bold')\n",
    "\n",
    "plt.savefig('Debited and Credited Amount in 2024-25.png', dpi = 300)"
   ]
  },
  {
   "cell_type": "code",
   "execution_count": 328,
   "id": "b323996e-ac22-4a02-9dd0-6605775c002d",
   "metadata": {},
   "outputs": [
    {
     "name": "stdout",
     "output_type": "stream",
     "text": [
      "7\n",
      "745000.0\n"
     ]
    }
   ],
   "source": [
    "total_Debit_NEFT = df[(df['Account Description'].str.contains('NEFT')) & (~df['Debit'].isna())]['Debit'].sum()\n",
    "print(len(df[(df['Account Description'].str.contains('NEFT')) & (~df['Debit'].isna())]))\n",
    "print(total_Debit_NEFT)"
   ]
  },
  {
   "cell_type": "code",
   "execution_count": 330,
   "id": "f2011822-4cd6-4654-8458-bba82f0c7f7b",
   "metadata": {},
   "outputs": [
    {
     "name": "stdout",
     "output_type": "stream",
     "text": [
      "16\n",
      "595000.0\n"
     ]
    }
   ],
   "source": [
    "total_Debit_WITHDRAWAL = df[(df['Account Description'].str.contains('WITHDRAWAL')) & (~df['Debit'].isna())]['Debit'].sum()\n",
    "print(len(df[(df['Account Description'].str.contains('WITHDRAWAL')) & (~df['Debit'].isna())]))\n",
    "print(total_Debit_WITHDRAWAL)"
   ]
  },
  {
   "cell_type": "code",
   "execution_count": 332,
   "id": "a4c19f6a-5410-4009-91b0-dd86f464ca67",
   "metadata": {},
   "outputs": [
    {
     "name": "stdout",
     "output_type": "stream",
     "text": [
      "209\n",
      "778450.0\n"
     ]
    }
   ],
   "source": [
    "total_Debit_UPI = df[(df['Account Description'].str.contains('UPI')) & (~df['Debit'].isna())]['Debit'].sum()\n",
    "print(len(df[(df['Account Description'].str.contains('UPI')) & (~df['Debit'].isna())]))\n",
    "print(total_Debit_UPI)"
   ]
  },
  {
   "cell_type": "code",
   "execution_count": 334,
   "id": "068988eb-da33-403a-b620-6022ac58ff25",
   "metadata": {},
   "outputs": [
    {
     "name": "stdout",
     "output_type": "stream",
     "text": [
      "2\n",
      "32.29\n"
     ]
    }
   ],
   "source": [
    "total_Debit_SMS = df[(df['Account Description'].str.contains('SMS CHARGES')) & (~df['Debit'].isna())]['Debit'].sum()\n",
    "print(len(df[(df['Account Description'].str.contains('SMS CHARGES')) & (~df['Debit'].isna())]))\n",
    "print(total_Debit_SMS)"
   ]
  },
  {
   "cell_type": "code",
   "execution_count": 336,
   "id": "b503555f-bf0a-44fc-b131-774e2ac16fed",
   "metadata": {},
   "outputs": [
    {
     "name": "stdout",
     "output_type": "stream",
     "text": [
      "7\n",
      "3106797.0\n"
     ]
    }
   ],
   "source": [
    "total_Debit_Others = df[(~df['Debit'].isna()) & (~df['Account Description'].str.contains('UPI|SMS CHARGES|NEFT|WITHDRAWAL'))]['Debit'].sum()\n",
    "print(len(df[(~df['Debit'].isna()) & (~df['Account Description'].str.contains('UPI|SMS CHARGES|NEFT|WITHDRAWAL'))]))\n",
    "print(total_Debit_Others)"
   ]
  },
  {
   "cell_type": "code",
   "execution_count": 288,
   "id": "1f02e7ca-4d46-443d-adcc-ec49e332fb0c",
   "metadata": {},
   "outputs": [
    {
     "data": {
      "text/html": [
       "<div>\n",
       "<style scoped>\n",
       "    .dataframe tbody tr th:only-of-type {\n",
       "        vertical-align: middle;\n",
       "    }\n",
       "\n",
       "    .dataframe tbody tr th {\n",
       "        vertical-align: top;\n",
       "    }\n",
       "\n",
       "    .dataframe thead th {\n",
       "        text-align: right;\n",
       "    }\n",
       "</style>\n",
       "<table border=\"1\" class=\"dataframe\">\n",
       "  <thead>\n",
       "    <tr style=\"text-align: right;\">\n",
       "      <th></th>\n",
       "      <th>Post Date</th>\n",
       "      <th>Value Date</th>\n",
       "      <th>Branch Code</th>\n",
       "      <th>Cheque Number</th>\n",
       "      <th>Account Description</th>\n",
       "      <th>Debit</th>\n",
       "      <th>Credit</th>\n",
       "      <th>Balance</th>\n",
       "    </tr>\n",
       "  </thead>\n",
       "  <tbody>\n",
       "    <tr>\n",
       "      <th>80</th>\n",
       "      <td>2024-05-27</td>\n",
       "      <td>2024-05-27</td>\n",
       "      <td>621</td>\n",
       "      <td></td>\n",
       "      <td>TO TRANSFER/PMSBY_NIACBIN7643027147 FY2024-25(...</td>\n",
       "      <td>20.0</td>\n",
       "      <td>NaN</td>\n",
       "      <td>357005.19</td>\n",
       "    </tr>\n",
       "    <tr>\n",
       "      <th>100</th>\n",
       "      <td>2024-06-21</td>\n",
       "      <td>2024-06-21</td>\n",
       "      <td>2684</td>\n",
       "      <td></td>\n",
       "      <td>TO TRANSFER</td>\n",
       "      <td>200000.0</td>\n",
       "      <td>NaN</td>\n",
       "      <td>586938.29</td>\n",
       "    </tr>\n",
       "    <tr>\n",
       "      <th>126</th>\n",
       "      <td>2024-07-22</td>\n",
       "      <td>2024-07-22</td>\n",
       "      <td>3295</td>\n",
       "      <td></td>\n",
       "      <td>TO TRANSFER/TR</td>\n",
       "      <td>1400000.0</td>\n",
       "      <td>NaN</td>\n",
       "      <td>1680476.39</td>\n",
       "    </tr>\n",
       "    <tr>\n",
       "      <th>127</th>\n",
       "      <td>2024-07-22</td>\n",
       "      <td>2024-07-22</td>\n",
       "      <td>3295</td>\n",
       "      <td></td>\n",
       "      <td>TO TRANSFER/TRF TO MMDC A C</td>\n",
       "      <td>1500000.0</td>\n",
       "      <td>NaN</td>\n",
       "      <td>180476.39</td>\n",
       "    </tr>\n",
       "    <tr>\n",
       "      <th>175</th>\n",
       "      <td>2024-09-30</td>\n",
       "      <td>2024-09-30</td>\n",
       "      <td>4982</td>\n",
       "      <td></td>\n",
       "      <td>TO TRANSFER</td>\n",
       "      <td>1045.0</td>\n",
       "      <td>NaN</td>\n",
       "      <td>105287.69</td>\n",
       "    </tr>\n",
       "    <tr>\n",
       "      <th>249</th>\n",
       "      <td>2025-03-09</td>\n",
       "      <td>2025-03-09</td>\n",
       "      <td>8103</td>\n",
       "      <td></td>\n",
       "      <td>TO TRANSFER/492046851/PAYU/NA</td>\n",
       "      <td>5712.0</td>\n",
       "      <td>NaN</td>\n",
       "      <td>128573.31</td>\n",
       "    </tr>\n",
       "    <tr>\n",
       "      <th>271</th>\n",
       "      <td>2025-05-28</td>\n",
       "      <td>2025-05-28</td>\n",
       "      <td>621</td>\n",
       "      <td></td>\n",
       "      <td>TO TRANSFER/PMSBY_JNS-PMSBY-23-24-01137156574-...</td>\n",
       "      <td>20.0</td>\n",
       "      <td>NaN</td>\n",
       "      <td>116006.51</td>\n",
       "    </tr>\n",
       "  </tbody>\n",
       "</table>\n",
       "</div>"
      ],
      "text/plain": [
       "     Post Date Value Date Branch Code Cheque Number  \\\n",
       "80  2024-05-27 2024-05-27         621                 \n",
       "100 2024-06-21 2024-06-21        2684                 \n",
       "126 2024-07-22 2024-07-22        3295                 \n",
       "127 2024-07-22 2024-07-22        3295                 \n",
       "175 2024-09-30 2024-09-30        4982                 \n",
       "249 2025-03-09 2025-03-09        8103                 \n",
       "271 2025-05-28 2025-05-28         621                 \n",
       "\n",
       "                                   Account Description      Debit  Credit  \\\n",
       "80   TO TRANSFER/PMSBY_NIACBIN7643027147 FY2024-25(...       20.0     NaN   \n",
       "100                                        TO TRANSFER   200000.0     NaN   \n",
       "126                                     TO TRANSFER/TR  1400000.0     NaN   \n",
       "127                        TO TRANSFER/TRF TO MMDC A C  1500000.0     NaN   \n",
       "175                                        TO TRANSFER     1045.0     NaN   \n",
       "249                      TO TRANSFER/492046851/PAYU/NA     5712.0     NaN   \n",
       "271  TO TRANSFER/PMSBY_JNS-PMSBY-23-24-01137156574-...       20.0     NaN   \n",
       "\n",
       "        Balance  \n",
       "80    357005.19  \n",
       "100   586938.29  \n",
       "126  1680476.39  \n",
       "127   180476.39  \n",
       "175   105287.69  \n",
       "249   128573.31  \n",
       "271   116006.51  "
      ]
     },
     "execution_count": 288,
     "metadata": {},
     "output_type": "execute_result"
    }
   ],
   "source": [
    "df[(~df['Debit'].isna()) & (~df['Account Description'].str.contains('UPI|SMS CHARGES|NEFT|WITHDRAWAL'))]"
   ]
  },
  {
   "cell_type": "code",
   "execution_count": 320,
   "id": "e0e57bba-ac6b-452a-a3a4-9f40d5c55d52",
   "metadata": {},
   "outputs": [],
   "source": [
    "debit_categories = [total_Debit_NEFT, total_Debit_WITHDRAWAL, total_Debit_UPI, total_Debit_SMS, total_Debit_Others]\n",
    "labels = ['NEFT', 'CASH WITHDRAWAL', 'UPI', 'SMS CHARGES', 'OTHERS']\n",
    "my_explode = [0,0,0,0,0]"
   ]
  },
  {
   "cell_type": "code",
   "execution_count": 354,
   "id": "602132f7-0df7-4ff9-b0e9-f9d4110475a3",
   "metadata": {},
   "outputs": [
    {
     "data": {
      "image/png": "[encoded data removed]",
      "text/plain": [
       "<Figure size 640x480 with 1 Axes>"
      ]
     },
     "metadata": {},
     "output_type": "display_data"
    }
   ],
   "source": [
    "plt.pie(debit_categories, labels = labels, autopct = '%1.1f%%', explode = my_explode)\n",
    "plt.title('Percentage Distribution of Debit in Account', fontweight = 'bold')\n",
    "plt.legend(loc = 'lower right', prop = {'size':8})\n",
    "\n",
    "plt.savefig('Percentage Distribution Of Debit in Account.png', dpi = 300)"
   ]
  },
  {
   "cell_type": "code",
   "execution_count": 380,
   "id": "67736d9e-c77e-4f28-8185-069a53f77c96",
   "metadata": {},
   "outputs": [
    {
     "name": "stdout",
     "output_type": "stream",
     "text": [
      "45\n"
     ]
    }
   ],
   "source": [
    "# Transactions of Credit:\n",
    "df[~df['Credit'].isna()]\n",
    "print(len(df[~df['Credit'].isna()]))"
   ]
  },
  {
   "cell_type": "code",
   "execution_count": 376,
   "id": "e920d1c9-4c4b-4a01-8a7f-d72e3bffea78",
   "metadata": {},
   "outputs": [
    {
     "name": "stdout",
     "output_type": "stream",
     "text": [
      "433756.0\n",
      "13\n"
     ]
    }
   ],
   "source": [
    "total_Credit_SALARY = df[(~df['Credit'].isna()) & (df['Account Description'].str.contains('CREDIT'))]['Credit'].sum()\n",
    "print(total_Credit_SALARY)\n",
    "print(len(df[(~df['Credit'].isna()) & (df['Account Description'].str.contains('CREDIT'))]))"
   ]
  },
  {
   "cell_type": "code",
   "execution_count": 378,
   "id": "b01cea06-4a15-46a4-8502-0cdb09725eab",
   "metadata": {},
   "outputs": [
    {
     "name": "stdout",
     "output_type": "stream",
     "text": [
      "79694.0\n",
      "13\n"
     ]
    }
   ],
   "source": [
    "total_Credit_UPI = df[(~df['Credit'].isna()) & (df['Account Description'].str.contains('UPI'))]['Credit'].sum()\n",
    "print(total_Credit_UPI)\n",
    "print(len(df[(~df['Credit'].isna()) & (df['Account Description'].str.contains('UPI'))]))"
   ]
  },
  {
   "cell_type": "code",
   "execution_count": 384,
   "id": "7ed6d29f-7158-480f-9c6e-a804e9f812de",
   "metadata": {},
   "outputs": [
    {
     "name": "stdout",
     "output_type": "stream",
     "text": [
      "4193751.0\n",
      "14\n"
     ]
    }
   ],
   "source": [
    "total_Credit_NEFT = df[(~df['Credit'].isna()) & (df['Account Description'].str.contains('NEFT'))]['Credit'].sum()\n",
    "print(total_Credit_NEFT)\n",
    "print(len(df[(~df['Credit'].isna()) & (df['Account Description'].str.contains('NEFT'))]))"
   ]
  },
  {
   "cell_type": "code",
   "execution_count": 396,
   "id": "bc8c3e32-f963-4e23-80a8-52e781774bb8",
   "metadata": {},
   "outputs": [
    {
     "name": "stdout",
     "output_type": "stream",
     "text": [
      "556697.0\n",
      "4\n"
     ]
    }
   ],
   "source": [
    "total_Credit_OTHERS = df[(~df['Credit'].isna()) & (df['Account Description'].str.contains('SALARY|CLO', case=False))]['Credit'].sum()\n",
    "print(total_Credit_OTHERS)\n",
    "print(len(df[(~df['Credit'].isna()) & (df['Account Description'].str.contains('SALARY|CLO', case=False))]))"
   ]
  },
  {
   "cell_type": "code",
   "execution_count": 398,
   "id": "59becc24-67d9-43df-b415-0f0e2845f5a0",
   "metadata": {},
   "outputs": [],
   "source": [
    "credit_categories = [total_Credit_SALARY, total_Credit_UPI, total_Credit_NEFT, total_Credit_OTHERS]\n",
    "labels = ['SALARY','UPI','NEFT','OTHERS']"
   ]
  },
  {
   "cell_type": "code",
   "execution_count": 406,
   "id": "2ed48ef6-3334-42d2-a8a1-ad83b5ce9904",
   "metadata": {},
   "outputs": [
    {
     "data": {
      "image/png": "[encoded data removed]",
      "text/plain": [
       "<Figure size 640x480 with 1 Axes>"
      ]
     },
     "metadata": {},
     "output_type": "display_data"
    }
   ],
   "source": [
    "plt.pie(credit_categories, labels = labels, autopct = '%1.1f%%')\n",
    "plt.title('Percentege Distribution Of Credit in Account', fontweight = 'bold')\n",
    "plt.legend(loc = 'lower right', prop = {'size':8})\n",
    "\n",
    "plt.savefig('Percentage Distribution Of Credit in Account.png', dpi = 300)"
   ]
  },
  {
   "cell_type": "code",
   "execution_count": 509,
   "id": "408fc482-cad2-45b1-b8fb-2fff2a0f7dd9",
   "metadata": {},
   "outputs": [
    {
     "data": {
      "text/plain": [
       "[147939.83,\n",
       " 99300.0,\n",
       " 93375.0,\n",
       " 103807.06,\n",
       " 197270.0,\n",
       " 920894.8,\n",
       " 3023134.0,\n",
       " 54387.9,\n",
       " 169979.8,\n",
       " 84281.6,\n",
       " 16399.0,\n",
       " 9329.0,\n",
       " 64552.9,\n",
       " 35852.88,\n",
       " 98053.9,\n",
       " 18224.0,\n",
       " 12416.72,\n",
       " 76080.9]"
      ]
     },
     "execution_count": 509,
     "metadata": {},
     "output_type": "execute_result"
    }
   ],
   "source": [
    "monthly_debits = df.groupby(df['Post Date'].dt.to_period('M'))['Debit'].sum()\n",
    "monthly_debits = [round(val,2) for val in monthly_debits.tolist()]\n",
    "monthly_debits"
   ]
  },
  {
   "cell_type": "code",
   "execution_count": 511,
   "id": "5fa1b742-169e-47d7-a348-1c24047f9ba4",
   "metadata": {},
   "outputs": [
    {
     "data": {
      "text/plain": [
       "['2024-01',\n",
       " '2024-02',\n",
       " '2024-03',\n",
       " '2024-04',\n",
       " '2024-05',\n",
       " '2024-06',\n",
       " '2024-07',\n",
       " '2024-08',\n",
       " '2024-09',\n",
       " '2024-10',\n",
       " '2024-11',\n",
       " '2024-12',\n",
       " '2025-01',\n",
       " '2025-02',\n",
       " '2025-03',\n",
       " '2025-04',\n",
       " '2025-05',\n",
       " '2025-06']"
      ]
     },
     "execution_count": 511,
     "metadata": {},
     "output_type": "execute_result"
    }
   ],
   "source": [
    "months = list(df['Post Date'].dt.to_period('M').unique())\n",
    "months = [str(m) for m in months]\n",
    "months"
   ]
  },
  {
   "cell_type": "code",
   "execution_count": 513,
   "id": "6ebc12c9-b783-4247-a05c-cb2ce427260d",
   "metadata": {},
   "outputs": [],
   "source": [
    "def add_horizontal_labels(x, y):\n",
    "    for i in range(len(x)):\n",
    "        plt.text(x[i] + 1000,i,x[i], va = 'center')"
   ]
  },
  {
   "cell_type": "code",
   "execution_count": 521,
   "id": "35c5f28e-65fa-44cf-a89b-61061061dc4a",
   "metadata": {},
   "outputs": [
    {
     "data": {
      "image/png": "[encoded data removed]",
      "text/plain": [
       "<Figure size 1000x600 with 1 Axes>"
      ]
     },
     "metadata": {},
     "output_type": "display_data"
    }
   ],
   "source": [
    "plt.figure(figsize = (10,6))\n",
    "plt.barh(months, monthly_debits)\n",
    "\n",
    "add_horizontal_labels(monthly_debits, months)\n",
    "\n",
    "plt.title('Monthly Debit in Account in the Year 2024-25', fontweight = 'bold')\n",
    "plt.xlabel('Amount', fontweight = 'bold')\n",
    "plt.ylabel('Months', fontweight = 'bold')\n",
    "\n",
    "plt.savefig('Monthly Debits in the Year 2024-25.png', dpi = 300)"
   ]
  },
  {
   "cell_type": "code",
   "execution_count": null,
   "id": "0c697c6b-661c-42f5-b4cd-6332bd3f0740",
   "metadata": {},
   "outputs": [],
   "source": [
    "monthly_debits = df.groupby(df['Post Date'].dt.to_period('M'))['Debit'].sum()\n",
    "monthly_debits = [round(val,2) for val in monthly_debits.tolist()]\n",
    "monthly_debits"
   ]
  }
 ],
 "metadata": {
  "kernelspec": {
   "display_name": "Python [conda env:base] *",
   "language": "python",
   "name": "conda-base-py"
  },
  "language_info": {
   "codemirror_mode": {
    "name": "ipython",
    "version": 3
   },
   "file_extension": ".py",
   "mimetype": "text/x-python",
   "name": "python",
   "nbconvert_exporter": "python",
   "pygments_lexer": "ipython3",
   "version": "3.12.7"
  }
 },
 "nbformat": 4,
 "nbformat_minor": 5
}
